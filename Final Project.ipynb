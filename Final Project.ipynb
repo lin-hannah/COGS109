{
 "cells": [
  {
   "cell_type": "markdown",
   "id": "e5cf19a8",
   "metadata": {},
   "source": [
    "# COGS 109 Final Project"
   ]
  },
  {
   "cell_type": "markdown",
   "id": "ad60394b",
   "metadata": {},
   "source": [
    "# Exploring relationships between different factors in Instructor Recommendations utilizing CAPEs\n"
   ]
  },
  {
   "cell_type": "markdown",
   "id": "673aa815",
   "metadata": {},
   "source": [
    "## Introduction"
   ]
  },
  {
   "cell_type": "markdown",
   "id": "1201775b",
   "metadata": {},
   "source": [
    "### Abstract"
   ]
  },
  {
   "cell_type": "markdown",
   "id": "78b7da9d",
   "metadata": {},
   "source": [
    "Our team decided to conduct an analysis using the Course and Professor Evaluation (CAPEs) system at UCSD to understand what factors (time commitment, average grade received, levels of difficulty, relevancy of materials, etc) would affect the ratings of course and instructor recommendation the most. We believe that this is an important topic to study because CAPEs is universally used by all students at UCSD to decide what classes and professors to take, thus exploring the relationship between different factors and understanding which would hold the highest coefficient would not only benefit students but also instructors and administration to improve their performance. "
   ]
  },
  {
   "cell_type": "markdown",
   "id": "2f70eb3e",
   "metadata": {},
   "source": [
    "#### Define the real problem and explain its motivation"
   ]
  },
  {
   "cell_type": "markdown",
   "id": "fdb95f18",
   "metadata": {},
   "source": []
  },
  {
   "cell_type": "markdown",
   "id": "387b37b3",
   "metadata": {},
   "source": [
    "#### Identify the dataset you will use and explain its key characteristics"
   ]
  },
  {
   "cell_type": "markdown",
   "id": "56a11b5e",
   "metadata": {},
   "source": [
    "In this project we will be utilizing UCSD's CAPEs system as our dataset. This data is available for all UCSD students and accessed at [website] Our dataset consists of 60414 observations and 10 variables. \n",
    "\n",
    "\n",
    "(Explain each variable and state whether it is categorical / numerical)\n",
    "\n",
    "- Instructor\n",
    "- Course\n",
    "- Term\n",
    "- Enroll\n",
    "- Evals Made\n",
    "- Rcmnd Class\n",
    "- Rcmnd Instr\n",
    "- Study Hrs/wk\n",
    "- Avg Grade Expected\n",
    "- Avg Grade Received"
   ]
  },
  {
   "cell_type": "markdown",
   "id": "1c7f99ab",
   "metadata": {},
   "source": [
    "Explain which variables we can't use as predictors "
   ]
  },
  {
   "cell_type": "markdown",
   "id": "f3aa927d",
   "metadata": {},
   "source": [
    "#### Explain at least one hypothesis that you will test.\n"
   ]
  },
  {
   "cell_type": "markdown",
   "id": "7578c890",
   "metadata": {},
   "source": [
    "We hypothesize"
   ]
  },
  {
   "cell_type": "markdown",
   "id": "991a7bd8",
   "metadata": {},
   "source": [
    "## Methods"
   ]
  },
  {
   "cell_type": "markdown",
   "id": "76010404",
   "metadata": {},
   "source": [
    "Identify the data analysis approach you will use and explain the rationale/motivation for your choice of this approach. Clearly state whether you are focusing on prediction or inference. Explain why the model class you have chosen is appropriate for the data and questions in your project."
   ]
  },
  {
   "cell_type": "markdown",
   "id": "ad2c7a67",
   "metadata": {},
   "source": []
  },
  {
   "cell_type": "markdown",
   "id": "c69d170b",
   "metadata": {},
   "source": [
    "Explain what form of cross-validation you will use. Give a clear explanation, including any procedures you will use for randomizing the order of observations, splitting testing and training sets. It is NOT sufficient to simply reference a Python library; you must explain how the library actually performs the cross-validation."
   ]
  },
  {
   "cell_type": "markdown",
   "id": "3fd18c72",
   "metadata": {},
   "source": []
  },
  {
   "cell_type": "markdown",
   "id": "6970171b",
   "metadata": {},
   "source": [
    "## Results"
   ]
  },
  {
   "cell_type": "markdown",
   "id": "8a6726d4",
   "metadata": {},
   "source": [
    "#### Model Selection"
   ]
  },
  {
   "cell_type": "markdown",
   "id": "c39ea0d5",
   "metadata": {},
   "source": [
    "Your results must include at least two different models or analyses of the same data, with an objective comparison/evaluation of the relative merit of the two approaches. You must use cross-validation for this model comparison. Note that the models you compare can be very similar, e.g. fitting a regression with 2 explanatory (independent) variables vs. 3 variables. Show a graph or table (as appropriate) to illustrate the objective model comparison you performed, and explain why you chose the final model. This section should discuss the complexity/flexibility of the different models. You should also discuss whether any of the models you studied showed evidence of overfitting."
   ]
  },
  {
   "cell_type": "markdown",
   "id": "845238f9",
   "metadata": {},
   "source": []
  },
  {
   "cell_type": "markdown",
   "id": "a642af0f",
   "metadata": {},
   "source": [
    "#### Model Estimation"
   ]
  },
  {
   "cell_type": "markdown",
   "id": "3854a06e",
   "metadata": {},
   "source": [
    "What are the final parameter estimates (obtained using the full dataset)? What is the final accuracy of the model’s predictions?\n",
    "\n",
    "Include at least one figure to visualize your results. Your figure should be fully labeled and self-explanatory, with axis labels and a figure legend.\n"
   ]
  },
  {
   "cell_type": "markdown",
   "id": "e9eac463",
   "metadata": {},
   "source": []
  },
  {
   "cell_type": "markdown",
   "id": "1265f0f1",
   "metadata": {},
   "source": [
    "## Conclusion"
   ]
  },
  {
   "cell_type": "markdown",
   "id": "fc49126e",
   "metadata": {},
   "source": [
    "#### What can you conclude about your hypothesis? (Note that negative or ambiguous results are perfectly acceptable, you just need to explain what you found.) "
   ]
  },
  {
   "cell_type": "markdown",
   "id": "275a89b8",
   "metadata": {},
   "source": []
  },
  {
   "cell_type": "markdown",
   "id": "f90f2773",
   "metadata": {},
   "source": [
    "### Discussion"
   ]
  },
  {
   "cell_type": "markdown",
   "id": "7f50fa9e",
   "metadata": {},
   "source": [
    "#### What are some potential implications/next steps for researchers interested in this topic?"
   ]
  },
  {
   "cell_type": "markdown",
   "id": "a5546087",
   "metadata": {},
   "source": []
  }
 ],
 "metadata": {
  "kernelspec": {
   "display_name": "Python 3",
   "language": "python",
   "name": "python3"
  },
  "language_info": {
   "codemirror_mode": {
    "name": "ipython",
    "version": 3
   },
   "file_extension": ".py",
   "mimetype": "text/x-python",
   "name": "python",
   "nbconvert_exporter": "python",
   "pygments_lexer": "ipython3",
   "version": "3.8.8"
  }
 },
 "nbformat": 4,
 "nbformat_minor": 5
}
