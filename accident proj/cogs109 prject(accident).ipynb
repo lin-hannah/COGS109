{
 "cells": [
  {
   "cell_type": "code",
   "execution_count": 1,
   "metadata": {},
   "outputs": [],
   "source": [
    "import numpy as np\n",
    "import pandas as pd\n",
    "from tabulate import tabulate\n",
    "import seaborn as sns\n",
    "import matplotlib.pyplot as plt\n",
    "\n",
    "\n",
    "%matplotlib inline\n",
    "%config InlineBackend.figure_format='retina'\n",
    "sns.set_theme(style=\"whitegrid\")\n",
    "\n",
    "import warnings\n",
    "warnings.filterwarnings(\"ignore\")\n",
    "import pandas as pd\n",
    "import os"
   ]
  },
  {
   "cell_type": "code",
   "execution_count": 7,
   "metadata": {},
   "outputs": [],
   "source": [
    "\n",
    "dataset = \"~/Desktop/uncleaned_accidents.csv\"#be aware to locate the file\n",
    "\n",
    "df = pd.read_csv(dataset)\n",
    "dfo = pd.read_csv(dataset)"
   ]
  },
  {
   "cell_type": "code",
   "execution_count": 8,
   "metadata": {},
   "outputs": [],
   "source": [
    "df = dfo#in case lose and you do not need to run it for long time"
   ]
  },
  {
   "cell_type": "code",
   "execution_count": 9,
   "metadata": {},
   "outputs": [
    {
     "data": {
      "text/plain": [
       "(104165, 46)"
      ]
     },
     "execution_count": 9,
     "metadata": {},
     "output_type": "execute_result"
    }
   ],
   "source": [
    "#filter the data to only country san diego\n",
    "df = df[(df['County'] == 'San Diego')]\n",
    "df.shape"
   ]
  },
  {
   "cell_type": "code",
   "execution_count": 10,
   "metadata": {},
   "outputs": [
    {
     "name": "stdout",
     "output_type": "stream",
     "text": [
      "<class 'pandas.core.frame.DataFrame'>\n",
      "Index: 104165 entries, 42875 to 7728390\n",
      "Data columns (total 46 columns):\n",
      " #   Column                 Non-Null Count   Dtype  \n",
      "---  ------                 --------------   -----  \n",
      " 0   ID                     104165 non-null  object \n",
      " 1   Source                 104165 non-null  object \n",
      " 2   Severity               104165 non-null  int64  \n",
      " 3   Start_Time             104165 non-null  object \n",
      " 4   End_Time               104165 non-null  object \n",
      " 5   Start_Lat              104165 non-null  float64\n",
      " 6   Start_Lng              104165 non-null  float64\n",
      " 7   End_Lat                67640 non-null   float64\n",
      " 8   End_Lng                67640 non-null   float64\n",
      " 9   Distance(mi)           104165 non-null  float64\n",
      " 10  Description            104165 non-null  object \n",
      " 11  Street                 103860 non-null  object \n",
      " 12  City                   104165 non-null  object \n",
      " 13  County                 104165 non-null  object \n",
      " 14  State                  104165 non-null  object \n",
      " 15  Zipcode                104165 non-null  object \n",
      " 16  Country                104165 non-null  object \n",
      " 17  Timezone               104165 non-null  object \n",
      " 18  Airport_Code           104165 non-null  object \n",
      " 19  Weather_Timestamp      103670 non-null  object \n",
      " 20  Temperature(F)         101834 non-null  float64\n",
      " 21  Wind_Chill(F)          70295 non-null   float64\n",
      " 22  Humidity(%)            101541 non-null  float64\n",
      " 23  Pressure(in)           103476 non-null  float64\n",
      " 24  Visibility(mi)         103247 non-null  float64\n",
      " 25  Wind_Direction         102254 non-null  object \n",
      " 26  Wind_Speed(mph)        96296 non-null   float64\n",
      " 27  Precipitation(in)      73727 non-null   float64\n",
      " 28  Weather_Condition      103200 non-null  object \n",
      " 29  Amenity                104165 non-null  bool   \n",
      " 30  Bump                   104165 non-null  bool   \n",
      " 31  Crossing               104165 non-null  bool   \n",
      " 32  Give_Way               104165 non-null  bool   \n",
      " 33  Junction               104165 non-null  bool   \n",
      " 34  No_Exit                104165 non-null  bool   \n",
      " 35  Railway                104165 non-null  bool   \n",
      " 36  Roundabout             104165 non-null  bool   \n",
      " 37  Station                104165 non-null  bool   \n",
      " 38  Stop                   104165 non-null  bool   \n",
      " 39  Traffic_Calming        104165 non-null  bool   \n",
      " 40  Traffic_Signal         104165 non-null  bool   \n",
      " 41  Turning_Loop           104165 non-null  bool   \n",
      " 42  Sunrise_Sunset         103836 non-null  object \n",
      " 43  Civil_Twilight         103836 non-null  object \n",
      " 44  Nautical_Twilight      103836 non-null  object \n",
      " 45  Astronomical_Twilight  103836 non-null  object \n",
      "dtypes: bool(13), float64(12), int64(1), object(20)\n",
      "memory usage: 28.3+ MB\n"
     ]
    }
   ],
   "source": [
    "df.info()"
   ]
  },
  {
   "cell_type": "code",
   "execution_count": 11,
   "metadata": {},
   "outputs": [
    {
     "name": "stdout",
     "output_type": "stream",
     "text": [
      "(94450, 42) (7728394, 46)\n",
      "['End_Lat', 'End_Lng', 'Wind_Chill(F)', 'Precipitation(in)']\n"
     ]
    }
   ],
   "source": [
    "#to check the missing part in percentage and drop the colimn with much mssing part.\n",
    "missing_percentages = df.isnull().mean() * 100\n",
    "threshold = 25\n",
    "columns_to_drop = missing_percentages[missing_percentages > threshold].index\n",
    "dropped_columns = list(columns_to_drop)\n",
    "df = df.drop(columns_to_drop, axis=1)\n",
    "\n",
    "# Drop rows with null values\n",
    "df = df.dropna()\n",
    "\n",
    "print(df.shape, dfo.shape)\n",
    "print(dropped_columns)\n",
    "\n"
   ]
  },
  {
   "cell_type": "code",
   "execution_count": 12,
   "metadata": {},
   "outputs": [
    {
     "name": "stdout",
     "output_type": "stream",
     "text": [
      "ID: A-42876|| A-42887|| A-42888|| A-42889|| A-42896\n",
      "Source: Source2|| Source3|| Source1\n",
      "Severity: 2|| 3|| 1|| 4\n",
      "Start_Time: 2016-06-21 10:39:52|| 2016-06-21 10:57:39|| 2016-06-21 10:50:48|| 2016-06-21 10:50:13|| 2016-06-21 11:12:25\n",
      "End_Time: 2016-06-21 11:24:52|| 2016-06-21 11:27:39|| 2016-06-21 11:20:48|| 2016-06-21 11:20:13|| 2016-06-21 11:57:25\n",
      "Start_Lat: 33.170689|| 32.765957|| 32.932255|| 33.093815|| 32.702853999999995\n",
      "Start_Lng: -117.20784|| -117.128319|| -117.112679|| -117.084366|| -117.01297\n",
      "Distance(mi): 0.0|| 0.01|| 0.46|| 1.87|| 0.77\n",
      "Description: Accident on Palmyra Dr at Primrose Ave.|| Accident on I-805 Northbound at Exit 17A 32nd St.|| HOV lane blocked due to accident on I-15 Northbound at Exit 17 Scripps Poway Pkwy.|| Right hand shoulder blocked due to accident on I-15 Southbound at Exit 29 Gamble Ln.|| Accident on Elkelton Blvd at Paradise Valley Rd.\n",
      "Street: Primrose Ave|| I-805 N|| Escondido Fwy S|| Elkelton Blvd|| Calle Fortunada\n",
      "City: Vista|| San Diego|| Escondido|| Spring Valley|| Santee\n",
      "County: San Diego\n",
      "State: CA\n",
      "Zipcode: 92083-8030|| 92116|| 92131|| 92029|| 91977-5731\n",
      "Country: US\n",
      "Timezone: US/Pacific\n",
      "Airport_Code: KCRQ|| KMYF|| KNKX|| KSEE|| KSAN\n",
      "Weather_Timestamp: 2016-06-21 10:53:00|| 2016-06-21 10:55:00|| 2016-06-21 10:47:00|| 2016-06-21 11:46:00|| 2016-06-21 11:51:00\n",
      "Temperature(F): 69.1|| 73.0|| 75.2|| 71.1|| 70.0\n",
      "Humidity(%): 84.0|| 75.0|| 66.0|| 61.0|| 73.0\n",
      "Pressure(in): 29.97|| 29.98|| 30.01|| 30.0|| 29.99\n",
      "Visibility(mi): 9.0|| 10.0|| 7.0|| 8.0|| 6.0\n",
      "Wind_Direction: WSW|| SW|| West|| SSW|| WNW\n",
      "Wind_Speed(mph): 6.9|| 8.1|| 11.5|| 9.2|| 5.8\n",
      "Weather_Condition: Partly Cloudy|| Scattered Clouds|| Mostly Cloudy|| Clear|| Overcast\n",
      "Amenity: False|| True\n",
      "Bump: False|| True\n",
      "Crossing: False|| True\n",
      "Give_Way: False|| True\n",
      "Junction: False|| True\n",
      "No_Exit: False|| True\n",
      "Railway: False|| True\n",
      "Roundabout: False|| True\n",
      "Station: False|| True\n",
      "Stop: False|| True\n",
      "Traffic_Calming: False|| True\n",
      "Traffic_Signal: False|| True\n",
      "Turning_Loop: False\n",
      "Sunrise_Sunset: Day|| Night\n",
      "Civil_Twilight: Day|| Night\n",
      "Nautical_Twilight: Day|| Night\n",
      "Astronomical_Twilight: Day|| Night\n"
     ]
    }
   ],
   "source": [
    "# Iterate over each column\n",
    "for column_name in df.columns:\n",
    "    unique_values = df[column_name].unique()\n",
    "    if len(unique_values) > 5:\n",
    "        unique_values = unique_values[:5]\n",
    "    \n",
    "    unique_values_str = '|| '.join(str(value) for value in unique_values)\n",
    "    \n",
    "    # Print the column name followed by unique values\n",
    "    print(f\"{column_name}: {unique_values_str}\")"
   ]
  },
  {
   "cell_type": "code",
   "execution_count": 13,
   "metadata": {},
   "outputs": [],
   "source": [
    "columns_to_drop = ['Source', 'Start_Lat', 'Start_Lng', 'Turning_Loop','Airport_Code','Country','Zipcode','Timezone','Civil_Twilight','Nautical_Twilight','Astronomical_Twilight','Weather_Timestamp','State','ID','County']\n",
    "# Drop the unnecessary columns from the DataFrame\n",
    "df = df.drop(columns_to_drop, axis=1)"
   ]
  },
  {
   "cell_type": "code",
   "execution_count": 14,
   "metadata": {},
   "outputs": [],
   "source": [
    "#to ensure there will no fraction after seconds.\n",
    "df['Start_Time'] = df['Start_Time'].str[:19]\n",
    "df['End_Time'] = df['End_Time'].str[:19]\n",
    "#convert the time to datetime\n",
    "df['Start_Time'] = pd.to_datetime(df['Start_Time'])\n",
    "df['End_Time'] = pd.to_datetime(df['End_Time'])"
   ]
  },
  {
   "cell_type": "code",
   "execution_count": 15,
   "metadata": {},
   "outputs": [
    {
     "data": {
      "text/plain": [
       "array([ 0,  1, 14,  3])"
      ]
     },
     "execution_count": 15,
     "metadata": {},
     "output_type": "execute_result"
    }
   ],
   "source": [
    "#create Duration in min and day\n",
    "df['Duration(min)'] = (round((df['End_Time'] - df['Start_Time']) / np.timedelta64(1, 'm'), 2)).astype(float)\n",
    "df['Duration(day)'] = (df['End_Time'] - df['Start_Time']).dt.days\n",
    "df['Duration(day)'].unique()"
   ]
  },
  {
   "cell_type": "code",
   "execution_count": 16,
   "metadata": {},
   "outputs": [
    {
     "data": {
      "text/html": [
       "<div>\n",
       "<style scoped>\n",
       "    .dataframe tbody tr th:only-of-type {\n",
       "        vertical-align: middle;\n",
       "    }\n",
       "\n",
       "    .dataframe tbody tr th {\n",
       "        vertical-align: top;\n",
       "    }\n",
       "\n",
       "    .dataframe thead th {\n",
       "        text-align: right;\n",
       "    }\n",
       "</style>\n",
       "<table border=\"1\" class=\"dataframe\">\n",
       "  <thead>\n",
       "    <tr style=\"text-align: right;\">\n",
       "      <th></th>\n",
       "      <th>Severity</th>\n",
       "      <th>Start_Time</th>\n",
       "      <th>End_Time</th>\n",
       "      <th>Distance(mi)</th>\n",
       "      <th>Description</th>\n",
       "      <th>Street</th>\n",
       "      <th>City</th>\n",
       "      <th>Temperature(F)</th>\n",
       "      <th>Humidity(%)</th>\n",
       "      <th>Pressure(in)</th>\n",
       "      <th>...</th>\n",
       "      <th>No_Exit</th>\n",
       "      <th>Railway</th>\n",
       "      <th>Roundabout</th>\n",
       "      <th>Station</th>\n",
       "      <th>Stop</th>\n",
       "      <th>Traffic_Calming</th>\n",
       "      <th>Traffic_Signal</th>\n",
       "      <th>Sunrise_Sunset</th>\n",
       "      <th>Duration(min)</th>\n",
       "      <th>Duration(day)</th>\n",
       "    </tr>\n",
       "  </thead>\n",
       "  <tbody>\n",
       "    <tr>\n",
       "      <th>6026568</th>\n",
       "      <td>4</td>\n",
       "      <td>2021-08-31 14:26:42</td>\n",
       "      <td>2021-09-14 23:59:00</td>\n",
       "      <td>0.174</td>\n",
       "      <td>San Diego Fwy S - I-5 S is closed from Birming...</td>\n",
       "      <td>I-5 S</td>\n",
       "      <td>Cardiff By the Sea</td>\n",
       "      <td>68.0</td>\n",
       "      <td>84.0</td>\n",
       "      <td>29.44</td>\n",
       "      <td>...</td>\n",
       "      <td>False</td>\n",
       "      <td>False</td>\n",
       "      <td>False</td>\n",
       "      <td>False</td>\n",
       "      <td>False</td>\n",
       "      <td>False</td>\n",
       "      <td>False</td>\n",
       "      <td>Day</td>\n",
       "      <td>20732.30</td>\n",
       "      <td>14</td>\n",
       "    </tr>\n",
       "    <tr>\n",
       "      <th>6437919</th>\n",
       "      <td>2</td>\n",
       "      <td>2021-01-21 13:18:00</td>\n",
       "      <td>2021-01-24 16:29:54</td>\n",
       "      <td>0.180</td>\n",
       "      <td>OLD HWY 395 JWO 15. 1039 NK ETA 30 MIN</td>\n",
       "      <td>Old Highway 395</td>\n",
       "      <td>Escondido</td>\n",
       "      <td>63.0</td>\n",
       "      <td>65.0</td>\n",
       "      <td>29.67</td>\n",
       "      <td>...</td>\n",
       "      <td>False</td>\n",
       "      <td>False</td>\n",
       "      <td>False</td>\n",
       "      <td>False</td>\n",
       "      <td>False</td>\n",
       "      <td>False</td>\n",
       "      <td>False</td>\n",
       "      <td>Day</td>\n",
       "      <td>4511.90</td>\n",
       "      <td>3</td>\n",
       "    </tr>\n",
       "    <tr>\n",
       "      <th>7683781</th>\n",
       "      <td>2</td>\n",
       "      <td>2019-06-03 18:03:12</td>\n",
       "      <td>2019-06-07 17:59:38</td>\n",
       "      <td>0.218</td>\n",
       "      <td>At CA-163/6th Ave/10th Ave/Exit 16 - Accident....</td>\n",
       "      <td>3rd Ave</td>\n",
       "      <td>San Diego</td>\n",
       "      <td>65.0</td>\n",
       "      <td>75.0</td>\n",
       "      <td>29.89</td>\n",
       "      <td>...</td>\n",
       "      <td>False</td>\n",
       "      <td>False</td>\n",
       "      <td>False</td>\n",
       "      <td>False</td>\n",
       "      <td>False</td>\n",
       "      <td>False</td>\n",
       "      <td>False</td>\n",
       "      <td>Day</td>\n",
       "      <td>5756.43</td>\n",
       "      <td>3</td>\n",
       "    </tr>\n",
       "  </tbody>\n",
       "</table>\n",
       "<p>3 rows × 29 columns</p>\n",
       "</div>"
      ],
      "text/plain": [
       "         Severity          Start_Time            End_Time  Distance(mi)   \n",
       "6026568         4 2021-08-31 14:26:42 2021-09-14 23:59:00         0.174  \\\n",
       "6437919         2 2021-01-21 13:18:00 2021-01-24 16:29:54         0.180   \n",
       "7683781         2 2019-06-03 18:03:12 2019-06-07 17:59:38         0.218   \n",
       "\n",
       "                                               Description           Street   \n",
       "6026568  San Diego Fwy S - I-5 S is closed from Birming...            I-5 S  \\\n",
       "6437919             OLD HWY 395 JWO 15. 1039 NK ETA 30 MIN  Old Highway 395   \n",
       "7683781  At CA-163/6th Ave/10th Ave/Exit 16 - Accident....          3rd Ave   \n",
       "\n",
       "                       City  Temperature(F)  Humidity(%)  Pressure(in)  ...   \n",
       "6026568  Cardiff By the Sea            68.0         84.0         29.44  ...  \\\n",
       "6437919           Escondido            63.0         65.0         29.67  ...   \n",
       "7683781           San Diego            65.0         75.0         29.89  ...   \n",
       "\n",
       "         No_Exit Railway  Roundabout Station   Stop  Traffic_Calming   \n",
       "6026568    False   False       False   False  False            False  \\\n",
       "6437919    False   False       False   False  False            False   \n",
       "7683781    False   False       False   False  False            False   \n",
       "\n",
       "         Traffic_Signal  Sunrise_Sunset  Duration(min)  Duration(day)  \n",
       "6026568           False             Day       20732.30             14  \n",
       "6437919           False             Day        4511.90              3  \n",
       "7683781           False             Day        5756.43              3  \n",
       "\n",
       "[3 rows x 29 columns]"
      ]
     },
     "execution_count": 16,
     "metadata": {},
     "output_type": "execute_result"
    }
   ],
   "source": [
    "#those are some outliers will be droped\n",
    "rows = df.loc[df['Duration(day)'] > 1]\n",
    "df = df.drop(df[df['Duration(day)'] > 1].index)\n",
    "rows"
   ]
  },
  {
   "cell_type": "code",
   "execution_count": 17,
   "metadata": {},
   "outputs": [
    {
     "data": {
      "text/plain": [
       "array(['Tuesday', 'Wednesday', 'Thursday', 'Friday', 'Saturday', 'Sunday',\n",
       "       'Monday'], dtype=object)"
      ]
     },
     "execution_count": 17,
     "metadata": {},
     "output_type": "execute_result"
    }
   ],
   "source": [
    "## give a new column about the weekday\n",
    "df['Weekday'] = df['Start_Time'].apply(lambda x: pd.to_datetime(x).strftime('%A'))\n",
    "df['Weekday'].unique()"
   ]
  },
  {
   "cell_type": "code",
   "execution_count": 18,
   "metadata": {},
   "outputs": [
    {
     "name": "stdout",
     "output_type": "stream",
     "text": [
      "Wind_Direction\n",
      "calm        14683\n",
      "w           14209\n",
      "wnw         10279\n",
      "wsw          8912\n",
      "sw           6620\n",
      "nw           6220\n",
      "variable     5516\n",
      "ssw          5116\n",
      "s            4958\n",
      "e            3212\n",
      "nnw          2717\n",
      "sse          2155\n",
      "ene          2082\n",
      "n            2079\n",
      "ne           1712\n",
      "se           1510\n",
      "ese          1401\n",
      "nne          1066\n",
      "Name: count, dtype: int64\n"
     ]
    }
   ],
   "source": [
    "#nomalize the wind direction\n",
    "df['Wind_Direction'] = df['Wind_Direction'].str.lower().str.strip()\n",
    "direction_mapping = {\n",
    "    'w': 'w',\n",
    "    'west': 'w',\n",
    "    'e': 'e',\n",
    "    'east': 'e',\n",
    "    'north': 'n',\n",
    "    'n':'n',\n",
    "    'south': 's',\n",
    "    's':'s',\n",
    "    'calm':'calm',\n",
    "    'wnw': 'wnw',\n",
    "    'wsw': 'wsw',\n",
    "    'sw': 'sw',\n",
    "    'nw': 'nw',\n",
    "    'ssw': 'ssw',\n",
    "    'var': 'variable',\n",
    "    'variable':'variable',\n",
    "    'nnw': 'nnw',\n",
    "    'sse': 'sse',\n",
    "    'ene': 'ene',\n",
    "    'ne': 'ne',\n",
    "    'se': 'se',\n",
    "    'ese': 'ese',\n",
    "    'nne': 'nne',\n",
    "}\n",
    "df['Wind_Direction'] = df['Wind_Direction'].map(direction_mapping)\n",
    "value_counts1 = df['Wind_Direction'].value_counts()\n",
    "print(value_counts1)"
   ]
  },
  {
   "cell_type": "code",
   "execution_count": 19,
   "metadata": {},
   "outputs": [],
   "source": [
    "##encoding day and night for sunrise and sunset\n",
    "mapping_1 = {'Day':1, 'Night': 0}\n",
    "df['Sunrise_Sunset'] = (df['Sunrise_Sunset'].replace(mapping_1))\n"
   ]
  },
  {
   "cell_type": "code",
   "execution_count": 20,
   "metadata": {},
   "outputs": [],
   "source": [
    "#move the position of the column\n",
    "weekday_col1 = df['Weekday']\n",
    "weekday_col2 = df['Duration(min)']\n",
    "weekday_col3 = df['Duration(day)']\n",
    "df = df.drop(columns='Weekday') \n",
    "df = df.drop(columns='Duration(min)') \n",
    "df = df.drop(columns='Duration(day)') \n",
    "df.insert(df.columns.get_loc('Start_Time'), 'Weekday', weekday_col1) \n",
    "df.insert(df.columns.get_loc('Start_Time'), 'Duration(min)', weekday_col2) \n",
    "df.insert(df.columns.get_loc('Start_Time'), 'Duration(day)', weekday_col3) \n"
   ]
  },
  {
   "cell_type": "code",
   "execution_count": 21,
   "metadata": {},
   "outputs": [
    {
     "name": "stdout",
     "output_type": "stream",
     "text": [
      "Severity: 2|| 3|| 1|| 4\n",
      "Weekday: Tuesday|| Wednesday|| Thursday|| Friday|| Saturday\n",
      "Duration(min): 45.0|| 30.0|| 60.0|| 40.43|| 42.63\n",
      "Duration(day): 0|| 1\n",
      "Start_Time: 2016-06-21 10:39:52|| 2016-06-21 10:57:39|| 2016-06-21 10:50:48|| 2016-06-21 10:50:13|| 2016-06-21 11:12:25\n",
      "End_Time: 2016-06-21 11:24:52|| 2016-06-21 11:27:39|| 2016-06-21 11:20:48|| 2016-06-21 11:20:13|| 2016-06-21 11:57:25\n",
      "Distance(mi): 0.0|| 0.01|| 0.46|| 1.87|| 0.77\n",
      "Description: Accident on Palmyra Dr at Primrose Ave.|| Accident on I-805 Northbound at Exit 17A 32nd St.|| HOV lane blocked due to accident on I-15 Northbound at Exit 17 Scripps Poway Pkwy.|| Right hand shoulder blocked due to accident on I-15 Southbound at Exit 29 Gamble Ln.|| Accident on Elkelton Blvd at Paradise Valley Rd.\n",
      "Street: Primrose Ave|| I-805 N|| Escondido Fwy S|| Elkelton Blvd|| Calle Fortunada\n",
      "City: Vista|| San Diego|| Escondido|| Spring Valley|| Santee\n",
      "Temperature(F): 69.1|| 73.0|| 75.2|| 71.1|| 70.0\n",
      "Humidity(%): 84.0|| 75.0|| 66.0|| 61.0|| 73.0\n",
      "Pressure(in): 29.97|| 29.98|| 30.01|| 30.0|| 29.99\n",
      "Visibility(mi): 9.0|| 10.0|| 7.0|| 8.0|| 6.0\n",
      "Wind_Direction: wsw|| sw|| w|| ssw|| wnw\n",
      "Wind_Speed(mph): 6.9|| 8.1|| 11.5|| 9.2|| 5.8\n",
      "Weather_Condition: Partly Cloudy|| Scattered Clouds|| Mostly Cloudy|| Clear|| Overcast\n",
      "Amenity: False|| True\n",
      "Bump: False|| True\n",
      "Crossing: False|| True\n",
      "Give_Way: False|| True\n",
      "Junction: False|| True\n",
      "No_Exit: False|| True\n",
      "Railway: False|| True\n",
      "Roundabout: False|| True\n",
      "Station: False|| True\n",
      "Stop: False|| True\n",
      "Traffic_Calming: False|| True\n",
      "Traffic_Signal: False|| True\n",
      "Sunrise_Sunset: 1|| 0\n"
     ]
    }
   ],
   "source": [
    "# Iterate over each column\n",
    "for column_name in df.columns:\n",
    "    unique_values = df[column_name].unique()\n",
    "    if len(unique_values) > 5:\n",
    "        unique_values = unique_values[:5]\n",
    "    \n",
    "    unique_values_str = '|| '.join(str(value) for value in unique_values)\n",
    "    \n",
    "    # Print the column name followed by unique values\n",
    "    print(f\"{column_name}: {unique_values_str}\")"
   ]
  },
  {
   "cell_type": "code",
   "execution_count": 22,
   "metadata": {},
   "outputs": [
    {
     "data": {
      "text/plain": [
       "array(['Partly Cloudy', 'Scattered Clouds', 'Mostly Cloudy', 'Clear',\n",
       "       'Overcast', 'Haze', 'Fog', 'Mist', 'Light Rain', 'Rain',\n",
       "       'Heavy Rain', 'Thunderstorms and Rain', 'Hail',\n",
       "       'Light Thunderstorms and Rain', 'Drizzle', 'Light Drizzle', 'Fair',\n",
       "       'Cloudy', 'Fair / Windy', 'Heavy Rain / Windy',\n",
       "       'Light Rain / Windy', 'T-Storm', 'Thunder',\n",
       "       'Thunder in the Vicinity', 'Rain / Windy', 'Cloudy / Windy',\n",
       "       'Mostly Cloudy / Windy', 'Partly Cloudy / Windy', 'Shallow Fog',\n",
       "       'Smoke', 'Patches of Fog', 'Blowing Dust',\n",
       "       'Light Rain with Thunder', 'Heavy T-Storm',\n",
       "       'Heavy Thunderstorms and Rain'], dtype=object)"
      ]
     },
     "execution_count": 22,
     "metadata": {},
     "output_type": "execute_result"
    }
   ],
   "source": [
    "df['Weather_Condition'].unique()"
   ]
  },
  {
   "cell_type": "code",
   "execution_count": 23,
   "metadata": {},
   "outputs": [
    {
     "name": "stdout",
     "output_type": "stream",
     "text": [
      "['', 'cloudy', 'clear', 'mist', 'rain']\n",
      "Categories (5, object): ['', 'clear', 'cloudy', 'mist', 'rain']\n"
     ]
    }
   ],
   "source": [
    "# Standardize weather condition labels\n",
    "df['Weather_Condition'] = df['Weather_Condition'].str.lower()\n",
    "weather_mapping = {\n",
    "    'partly cloudy': '',\n",
    "    'scattered clouds': 'cloudy',\n",
    "    'mostly cloudy': 'cloudy',\n",
    "    'clear': 'clear',\n",
    "    'overcast': 'cloudy',\n",
    "    'haze': 'mist',\n",
    "    'fog': 'mist',\n",
    "    'mist': 'mist',\n",
    "    'light rain': 'rain',\n",
    "    'rain': 'rain',\n",
    "    'heavy rain': 'rain',\n",
    "    'thunderstorms and rain': 'rain',\n",
    "    'hail': 'rain',\n",
    "    'light thunderstorms and rain': 'rain',\n",
    "    'drizzle': 'rain',\n",
    "    'light drizzle': 'rain',\n",
    "    'fair': 'clear',\n",
    "    'cloudy': 'cloudy',\n",
    "    'fair / windy': 'clear',\n",
    "    'heavy rain / windy': 'rain',\n",
    "    'light rain / windy': 'rain',\n",
    "    't-storm': 'rain',\n",
    "    'thunder': 'rain',\n",
    "    'thunder in the vicinity': 'rain',\n",
    "    'rain / windy': 'rain',\n",
    "    'cloudy / windy': 'cloudy',\n",
    "    'mostly cloudy / windy': 'cloudy',\n",
    "    'partly cloudy / windy': 'cloudy',\n",
    "    'shallow fog': 'mist',\n",
    "    'smoke': 'mist',\n",
    "    'patches of fog': 'mist',\n",
    "    'blowing dust': 'mist',\n",
    "    'light rain with thunder': 'rain',\n",
    "    'heavy t-storm': 'rain',\n",
    "    'heavy thunderstorms and rain': 'rain',\n",
    "\n",
    "}\n",
    "\n",
    "df['Weather_Condition'] = df['Weather_Condition'].map(weather_mapping)\n",
    "# Encode weather condition as a categorical variable\n",
    "df['Weather_Condition'] = df['Weather_Condition'].astype('category')\n",
    "df = df.dropna()\n",
    "print(df['Weather_Condition'].unique())\n"
   ]
  },
  {
   "cell_type": "code",
   "execution_count": 24,
   "metadata": {},
   "outputs": [
    {
     "data": {
      "text/plain": [
       "42875            \n",
       "42886      cloudy\n",
       "42887      cloudy\n",
       "42888            \n",
       "42895       clear\n",
       "            ...  \n",
       "7727956     clear\n",
       "7727960     clear\n",
       "7728374     clear\n",
       "7728377     clear\n",
       "7728390     clear\n",
       "Name: Weather_Condition, Length: 94447, dtype: category\n",
       "Categories (5, object): ['', 'clear', 'cloudy', 'mist', 'rain']"
      ]
     },
     "execution_count": 24,
     "metadata": {},
     "output_type": "execute_result"
    }
   ],
   "source": [
    "df['Weather_Condition']"
   ]
  },
  {
   "cell_type": "code",
   "execution_count": 25,
   "metadata": {},
   "outputs": [],
   "source": [
    "columns_to_convert = ['Amenity', 'Bump', 'Crossing', 'Give_Way', 'Junction', 'No_Exit', 'Railway', 'Roundabout', 'Station', 'Stop', 'Traffic_Calming', 'Traffic_Signal']\n",
    "\n",
    "df[columns_to_convert] = df[columns_to_convert].astype(int)\n"
   ]
  },
  {
   "cell_type": "code",
   "execution_count": 26,
   "metadata": {},
   "outputs": [],
   "source": [
    "#df.to_csv(\"~/Desktop/cogs108/109cleaned.csv\", index=False)\n"
   ]
  },
  {
   "cell_type": "code",
   "execution_count": 27,
   "metadata": {},
   "outputs": [
    {
     "data": {
      "text/plain": [
       "(94447, 30)"
      ]
     },
     "execution_count": 27,
     "metadata": {},
     "output_type": "execute_result"
    }
   ],
   "source": [
    "df.shape"
   ]
  },
  {
   "cell_type": "code",
   "execution_count": null,
   "metadata": {},
   "outputs": [],
   "source": []
  }
 ],
 "metadata": {
  "interpreter": {
   "hash": "aee8b7b246df8f9039afb4144a1f6fd8d2ca17a180786b69acc140d282b71a49"
  },
  "kernelspec": {
   "display_name": "Python 3.11.3 64-bit",
   "language": "python",
   "name": "python3"
  },
  "language_info": {
   "codemirror_mode": {
    "name": "ipython",
    "version": 3
   },
   "file_extension": ".py",
   "mimetype": "text/x-python",
   "name": "python",
   "nbconvert_exporter": "python",
   "pygments_lexer": "ipython3",
   "version": "3.11.3"
  },
  "orig_nbformat": 4
 },
 "nbformat": 4,
 "nbformat_minor": 2
}
